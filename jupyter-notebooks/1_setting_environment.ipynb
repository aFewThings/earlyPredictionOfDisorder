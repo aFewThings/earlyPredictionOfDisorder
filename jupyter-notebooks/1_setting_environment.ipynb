{
 "cells": [
  {
   "cell_type": "markdown",
   "metadata": {},
   "source": [
    "## Anaconda 설치\n",
    "\n",
    "참고 사이트:\n",
    "[https://gracefulprograming.tistory.com/124](https://gracefulprograming.tistory.com/124)\n",
    "\n",
    "사이트에 나온 그대로 설치하면 됩니다. 아나콘다는 기본적으로 Python 3.7도 같이 설치할 수 있지만 본 실험에선 가상환경을 이용할 것이므로 어떤 버전이든 상관이 없습니다."
   ]
  },
  {
   "cell_type": "markdown",
   "metadata": {},
   "source": [
    "설치가 완료되면, Anaconda Navigator가 아닌 Anaconda Prompt를 사용합니다.\n",
    "\n",
    "<img src=\"./temp/1.PNG\" width=\"600\">"
   ]
  },
  {
   "cell_type": "markdown",
   "metadata": {},
   "source": [
    "## Anaconda 가상환경 설치\n",
    "\n",
    "참고 사이트: [https://niceman.tistory.com/85](https://niceman.tistory.com/85)\n",
    "\n",
    "이제 외부 모듈과는 독립적인 실험환경을 위해 가상환경을 생성합니다. \n",
    "프롬프트 창을 열고 아래와 같이 입력합니다."
   ]
  },
  {
   "cell_type": "code",
   "execution_count": null,
   "metadata": {},
   "outputs": [],
   "source": [
    "# conda create -n (가상환경명) (설치할 패키지)\n",
    "conda create -n pt15 python=3.6"
   ]
  },
  {
   "cell_type": "code",
   "execution_count": null,
   "metadata": {},
   "outputs": [],
   "source": [
    "# 가상환경 활성화\n",
    "conda activate pt15\n",
    "# 가상환경 비활성화\n",
    "conda deactivate pt15"
   ]
  },
  {
   "cell_type": "markdown",
   "metadata": {},
   "source": [
    "앞으로 설치하는 모듈들은 다른 모듈들에 영향을 미치지 않도록 가상환경에 설치할 것입니다.\n",
    "이로써 다양한 python, pytorch 버전을 활용할 수 있습니다."
   ]
  },
  {
   "cell_type": "markdown",
   "metadata": {},
   "source": [
    "## NVIDIA CUDA, cuDNN 설치\n",
    "\n",
    "이미지 데이터 관련 연산에 있어서 병렬처리는 필수적입니다. \n",
    "이를 위해 CUDA와 cuDNN을 설치합니다.<br/>\n",
    "CUDA는 그래픽 카드, pytorch 버전에 따라 호환성 문제가 종종 발생하므로 적절한 버전을 설치하는 것이 중요합니다.<br/>\n",
    "글 작성 시점 가장 최신버전인 pytorch 1.5.0은 CUDA 9.2 ~ 10.2를 지원하는 것을 확인했습니다.<br/> \n",
    "그래픽 카드가 원하는 CUDA 버전을 지원하는지는 반드시 확인할 것을 당부드립니다.\n",
    "\n",
    "참고 사이트: [https://wordbe.tistory.com/entry/Windows-tensorflow-GPU-%EC%84%A4%EC%B9%98](https://wordbe.tistory.com/entry/Windows-tensorflow-GPU-%EC%84%A4%EC%B9%98)\n",
    "\n",
    "1. GPU Nvidia driver 설치\n",
    "\n",
    "  [https://www.nvidia.co.kr/Download/index.aspx?lang=kr](https://www.nvidia.co.kr/Download/index.aspx?lang=kr)\n",
    "  드라이버가 먼저 설치되어있는 경우 생략해도 됩니다. \n",
    "\n",
    "2. CUDA toolkit 설치\n",
    "  \n",
    "  [https://developer.nvidia.com/cuda-toolkit-archive](https://developer.nvidia.com/cuda-toolkit-archive)<br/>\n",
    "  저는 CUDA Toolkit 10.2를 받았습니다. <br/>\n",
    "  설치 경로는 바꾸지 않는 것을 추천드립니다.\n",
    "\n",
    "3. cuDNN\n",
    "  \n",
    "  cuDNN 설치는 회원가입이 필요합니다.<br/>\n",
    "  [https://developer.nvidia.com/rdp/cudnn-download](https://developer.nvidia.com/rdp/cudnn-download)<br/>\n",
    "  저는 cuDNN v7.6.5 for CUDA 10.2를 받았습니다.<br/>\n",
    "  압축을 풀면 bin, include, lib 폴더가 존재하는데 전부 다음 경로에 덮어씌웁니다.<br/>\n",
    "\n",
    "  - C:\\Program Files\\NVIDIA GPU Computing Toolkit\\CUDA\\v10.2\n",
    "  \n",
    "\n",
    "4. 시스템 환경변수 설정\n",
    "\n",
    "  설치된 CUDA 경로를 Path 시스템 환경변수에 추가한다.<br/>\n",
    "  \n",
    "<img src=\"./temp/2.PNG\" width=\"600\">\n",
    "\n",
    "  - C:\\Program Files\\NVIDIA GPU Computing Toolkit\\CUDA\\v10.2\\bin\n",
    "\n",
    "  - C:\\Program Files\\NVIDIA GPU Computing Toolkit\\CUDA\\v10.2\\include\n",
    "  \n",
    "  - C:\\Program Files\\NVIDIA GPU Computing Toolkit\\CUDA\\v10.2\\lib'\n",
    "\n",
    "5. CUDA 확인\n",
    "  \n",
    "  환경변수가 제대로 추가되었다면 Prompt창에서 다음 명령어가 아래와 같이 출력됩니다.<br/> \n",
    "  (명령어가 출력안된다면 프롬프트창을 재실행하시거나 경로를 다시 확인하세요.)\n",
    "  "
   ]
  },
  {
   "cell_type": "code",
   "execution_count": 1,
   "metadata": {
    "tags": []
   },
   "outputs": [
    {
     "output_type": "stream",
     "name": "stdout",
     "text": "nvcc: NVIDIA (R) Cuda compiler driver\nCopyright (c) 2005-2019 NVIDIA Corporation\nBuilt on Wed_Oct_23_19:32:27_Pacific_Daylight_Time_2019\nCuda compilation tools, release 10.2, V10.2.89\n"
    }
   ],
   "source": [
    "# 프롬프트 창에서 느낌표 빼고 입력\n",
    "!nvcc --version"
   ]
  },
  {
   "cell_type": "markdown",
   "metadata": {},
   "source": [
    "## Pytorch 설치 및 CUDA 테스트\n",
    "\n",
    "이제 CUDA와 호환되는 pytorch와 추가적으로 필요한 모듈들을 설치합니다.<br/>\n",
    "다시 Anaconda Prompt 창을 열고 다음과 같이 입력합니다.\n",
    "\n",
    "참고 사이트: [https://pytorch.org/get-started/locally/](https://pytorch.org/get-started/locally/)"
   ]
  },
  {
   "cell_type": "code",
   "execution_count": null,
   "metadata": {},
   "outputs": [],
   "source": [
    "conda activate pt15\n",
    "conda install pytorch torchvision cudatoolkit=10.2 -c pytorch # cudatoolkit=버전 확인\n"
   ]
  },
  {
   "cell_type": "markdown",
   "metadata": {},
   "source": []
  },
  {
   "cell_type": "markdown",
   "metadata": {},
   "source": [
    "설치가 완료되면 Pytorch가 CUDA를 사용할 수 있는지 확인합니다.\n"
   ]
  },
  {
   "cell_type": "code",
   "execution_count": 2,
   "metadata": {
    "tags": []
   },
   "outputs": [
    {
     "output_type": "stream",
     "name": "stdout",
     "text": "True\n"
    }
   ],
   "source": [
    "import torch\n",
    "\n",
    "print(torch.cuda.is_available())"
   ]
  }
 ],
 "metadata": {
  "language_info": {
   "codemirror_mode": {
    "name": "ipython",
    "version": 3
   },
   "file_extension": ".py",
   "mimetype": "text/x-python",
   "name": "python",
   "nbconvert_exporter": "python",
   "pygments_lexer": "ipython3",
   "version": "3.6.10-final"
  },
  "orig_nbformat": 2,
  "kernelspec": {
   "name": "pt15",
   "display_name": "pt15"
  }
 },
 "nbformat": 4,
 "nbformat_minor": 2
}