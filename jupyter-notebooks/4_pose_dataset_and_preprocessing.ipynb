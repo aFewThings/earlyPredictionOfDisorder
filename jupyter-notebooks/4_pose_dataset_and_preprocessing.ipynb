{
 "cells": [
  {
   "cell_type": "markdown",
   "metadata": {},
   "source": [
    "## Pose dataset and Data Preprocessing\n",
    "\n",
    "references: \n",
    "- [https://github.com/bearpaw/pytorch-pose](https://github.com/bearpaw/pytorch-pose)\n",
    "- [https://github.com/princeton-vl/pose-hg-train](https://github.com/princeton-vl/pose-hg-train)\n",
    "\n",
    "### 2D Human Pose Estimation\n",
    "\n",
    "저희는 pose estimation tasks 중에서도 이미지 속 사람의 관절 위치를 추정하는 2D human pose estimation에 관해 살펴볼 것입니다. <br/>\n",
    "아래 사진은 [\"Distribution Aware Coordinate Representation for Human Pose Estimation\"](https://openaccess.thecvf.com/content_CVPR_2020/papers/Zhang_Distribution-Aware_Coordinate_Representation_for_Human_Pose_Estimation_CVPR_2020_paper.pdf)\n",
    "논문에서 소개된 전형적인 pose estimation 훈련 pipeline을 나타내고 있습니다. <br/>\n",
    "따라서 앞으로의 내용 역시 이러한 절차를 따라 진행하겠습니다. \n",
    "\n",
    "<img src=\"./temp/3.PNG\" width=400> <br/>\n"
   ]
  },
  {
   "cell_type": "markdown",
   "metadata": {},
   "source": [
    "- (a) Data Preprocessing : 모델을 훈련하기 전, 입력(input) 데이터와 목표(target) 데이터를 어떻게 구성할지 정하는 단계입니다. 예를 들어, 데이터셋의 source image는 resolution이 매우 클 수도, 매우 작을 수도 있습니다. 또한, 이미지들마다 서로 다른 resolution을 가지고 있을 수도 있습니다. 따라서 우선적으로 모델에 통일된 크기의 이미지를 전달하기 위해서 source image를 input image로 변환하는 과정이 필요합니다. 이 과정을 **Transform**이라고 하겠습니다. 또한, 데이터 셋에는 훈련을 위해 입력이미지와 한쌍인 label 즉, 포즈 좌표 annotation이 존재합니다. 입력 이미지의 resolution이 Transform에 의해 resize될 것이므로 그에 따라 포즈 좌표도 동일한 scale로 Transform하는 과정이 필요합니다. 변환된 포즈 좌표는 vector로 표현되지만, 최근 많은 논문들은 이 vector를 heatmap으로 바꾸어 사용하고 있습니다. heatmap이란 1D인 vector와 다르게 2D로써 표현되며, 2D matrix의 각 요소들은 포즈가 존재할 probability를 계산하게 됩니다. 자세한 것은 이후에 설명하겠습니다.\n",
    "\n",
    "- (b) Human Pose Estimation Model : 모델을 정의할 때 몇 가지 미리 정하여야하는 hyperparameters가 존재합니다. 예를 들어 데이터셋에 따라 pose 좌표들의 개수 곧, 사람 관절을 표현한 Points가 각기 다를 수 있습니다. 실제로 대표적인 데이터셋인 COCO Keypoint Detection, MPII, LSP는 서로 관절 개수가 다릅니다 (각각 17, 16, 14). 이를 고려한다면 모델 아키텍처 또한 달라질 수 있습니다. 결과적으로 이 과정에서 정의된 모델은 input image를 받아 heatmap에 joint가 있을법한 위치를 regression 하게 됩니다. 본문에선 대표적인 CNN 모델 2가지를 소개하겠습니다. \n",
    "\n",
    "- (c) Model Training : \n",
    "\n",
    "\n",
    "- (d) Model Testing : "
   ]
  },
  {
   "cell_type": "code",
   "execution_count": null,
   "metadata": {},
   "outputs": [],
   "source": []
  }
 ],
 "metadata": {
  "kernelspec": {
   "display_name": "pt15",
   "language": "python",
   "name": "pt15"
  },
  "language_info": {
   "codemirror_mode": {
    "name": "ipython",
    "version": 3
   },
   "file_extension": ".py",
   "mimetype": "text/x-python",
   "name": "python",
   "nbconvert_exporter": "python",
   "pygments_lexer": "ipython3",
   "version": "3.6.10"
  }
 },
 "nbformat": 4,
 "nbformat_minor": 2
}
