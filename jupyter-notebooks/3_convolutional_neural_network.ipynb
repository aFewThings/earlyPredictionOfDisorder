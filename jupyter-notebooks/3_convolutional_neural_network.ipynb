{
 "cells": [
  {
   "cell_type": "markdown",
   "metadata": {},
   "source": [
    "## Convolutional Neural Network\n",
    "\n",
    "references: \n",
    "- [https://wegonnamakeit.tistory.com/48](https://wegonnamakeit.tistory.com/48)\n",
    "- [http://taewan.kim/post/cnn/](http://taewan.kim/post/cnn/)\n",
    "- [https://cheong.netlify.app/machine-learning/2019-10-14---cs231n-cnn-architectures/](https://cheong.netlify.app/machine-learning/2019-10-14---cs231n-cnn-architectures/)\n",
    "- [https://kjhov195.github.io/2020-01-07-activation_function_2/](https://kjhov195.github.io/2020-01-07-activation_function_2/)\n",
    "- [https://jsideas.net/batch_normalization/](https://jsideas.net/batch_normalization/)\n",
    "\n",
    "### Basic CNN\n",
    "CNN을 구성할때 보편적으로 사용되는 layers에 대해서 알아보겠습니다. <br/>\n",
    "\n"
   ]
  },
  {
   "cell_type": "markdown",
   "metadata": {},
   "source": [
    "#### Convolution layer (or spatial convolution layer)\n",
    "\n",
    "![img](http://deeplearning.net/software/theano/_images/numerical_padding_strides.gif)\n",
    "\n",
    "- Convolution: 이미지 위에 stride 값 만큼 filter(or kernel)을 이동시키면서 겹쳐지는 부분의 각 원소의 값을 모두 곱한 뒤 합산한 값을 출력하는 연산\n",
    "- filter(or kernel): number_of_filters x input_channels x kernel_size x kernel_size\n",
    "- Stride: filter를 sliding window 방식으로 한 번에 이동시키는 간격\n",
    "- Padding: pad 크기 만큼 이미지의 상하좌우에 '0'으로 값을 채우는 것. output의 width, height 크기를 조절하기 위해 사용합니다. \n",
    "- input(image or features): Batch x Channel x Height x Width (Pytorch: BCHW format, Tensorflow: BHWC format)\n",
    "  - Batch는 입력데이터의 묶음을 의미합니다. 입력데이터를 이미지 한 장으로 구성한다면 1 x C x H x W와 같습니다. 이미지의 크기가 256 x 256이고, RGB channel이라면 입력데이터는 1x3x256x256 입니다.\n",
    "- output(features or feature map): Batch x number_of_filters x computed_height x computed_width\n",
    "  - computed_width = ((width - kernel_size + 2*pad) / stride) + 1\n",
    "  - computed_height = ((height - kernel_size + 2*pad) / stride) + 1\n"
   ]
  },
  {
   "cell_type": "code",
   "execution_count": 1,
   "metadata": {
    "scrolled": true,
    "tags": []
   },
   "outputs": [
    {
     "name": "stdout",
     "output_type": "stream",
     "text": [
      "conv.weight:\n",
      " Parameter containing:\n",
      "tensor([[[[-0.1714, -0.1633,  0.0155],\n",
      "          [ 0.0130,  0.0025, -0.0413],\n",
      "          [-0.1491, -0.0082, -0.1326]],\n",
      "\n",
      "         [[ 0.0055,  0.1410, -0.1737],\n",
      "          [ 0.0885, -0.0911, -0.1266],\n",
      "          [-0.0893, -0.0882,  0.1075]],\n",
      "\n",
      "         [[ 0.0076,  0.1829,  0.0499],\n",
      "          [-0.0746, -0.0210, -0.1447],\n",
      "          [-0.0191, -0.0113, -0.1284]]],\n",
      "\n",
      "\n",
      "        [[[-0.1407, -0.0149, -0.0173],\n",
      "          [-0.0711,  0.0406, -0.1440],\n",
      "          [-0.1912,  0.1816,  0.1623]],\n",
      "\n",
      "         [[ 0.0691,  0.1679, -0.0347],\n",
      "          [ 0.1207,  0.0355,  0.1410],\n",
      "          [ 0.1236, -0.0073,  0.1920]],\n",
      "\n",
      "         [[ 0.1074,  0.1647,  0.1904],\n",
      "          [ 0.0600, -0.1610,  0.0631],\n",
      "          [ 0.1410,  0.1800, -0.1080]]]], requires_grad=True)\n",
      "conv.weight.shape:\n",
      " torch.Size([2, 3, 3, 3])\n",
      "\n",
      "conv.bias:\n",
      " Parameter containing:\n",
      "tensor([-0.1840,  0.1339], requires_grad=True)\n",
      "conv.bias.shape:\n",
      " torch.Size([2])\n",
      "\n",
      "input:\n",
      " tensor([[[[1., 1., 1.,  ..., 1., 1., 1.],\n",
      "          [1., 1., 1.,  ..., 1., 1., 1.],\n",
      "          [1., 1., 1.,  ..., 1., 1., 1.],\n",
      "          ...,\n",
      "          [1., 1., 1.,  ..., 1., 1., 1.],\n",
      "          [1., 1., 1.,  ..., 1., 1., 1.],\n",
      "          [1., 1., 1.,  ..., 1., 1., 1.]],\n",
      "\n",
      "         [[1., 1., 1.,  ..., 1., 1., 1.],\n",
      "          [1., 1., 1.,  ..., 1., 1., 1.],\n",
      "          [1., 1., 1.,  ..., 1., 1., 1.],\n",
      "          ...,\n",
      "          [1., 1., 1.,  ..., 1., 1., 1.],\n",
      "          [1., 1., 1.,  ..., 1., 1., 1.],\n",
      "          [1., 1., 1.,  ..., 1., 1., 1.]],\n",
      "\n",
      "         [[1., 1., 1.,  ..., 1., 1., 1.],\n",
      "          [1., 1., 1.,  ..., 1., 1., 1.],\n",
      "          [1., 1., 1.,  ..., 1., 1., 1.],\n",
      "          ...,\n",
      "          [1., 1., 1.,  ..., 1., 1., 1.],\n",
      "          [1., 1., 1.,  ..., 1., 1., 1.],\n",
      "          [1., 1., 1.,  ..., 1., 1., 1.]]]])\n",
      "output:\n",
      " tensor([[[[-0.8674, -1.0980, -1.0980,  ..., -1.0980, -1.0980, -1.0980],\n",
      "          [-0.8152, -1.2040, -1.2040,  ..., -1.2040, -1.2040, -1.2040],\n",
      "          [-0.8152, -1.2040, -1.2040,  ..., -1.2040, -1.2040, -1.2040],\n",
      "          ...,\n",
      "          [-0.8152, -1.2040, -1.2040,  ..., -1.2040, -1.2040, -1.2040],\n",
      "          [-0.8152, -1.2040, -1.2040,  ..., -1.2040, -1.2040, -1.2040],\n",
      "          [-0.8152, -1.2040, -1.2040,  ..., -1.2040, -1.2040, -1.2040]],\n",
      "\n",
      "         [[ 0.7097,  0.8927,  0.8927,  ...,  0.8927,  0.8927,  0.8927],\n",
      "          [ 1.1658,  1.3847,  1.3847,  ...,  1.3847,  1.3847,  1.3847],\n",
      "          [ 1.1658,  1.3847,  1.3847,  ...,  1.3847,  1.3847,  1.3847],\n",
      "          ...,\n",
      "          [ 1.1658,  1.3847,  1.3847,  ...,  1.3847,  1.3847,  1.3847],\n",
      "          [ 1.1658,  1.3847,  1.3847,  ...,  1.3847,  1.3847,  1.3847],\n",
      "          [ 1.1658,  1.3847,  1.3847,  ...,  1.3847,  1.3847,  1.3847]]]],\n",
      "       grad_fn=<MkldnnConvolutionBackward>)\n",
      "output.shape:\n",
      " torch.Size([1, 2, 128, 128])\n"
     ]
    }
   ],
   "source": [
    "import torch\n",
    "import torch.nn as nn\n",
    "\n",
    "in_channels = 3\n",
    "out_channels = 2 # out_channels은 number_of_filters과 동일하다.\n",
    "kernel_size = 3\n",
    "stride = 2\n",
    "pad = 1\n",
    "\n",
    "# Basic 2D convolution layer\n",
    "conv = nn.Conv2d(in_channels=in_channels, out_channels=out_channels, kernel_size=kernel_size, stride=stride, padding=pad)\n",
    "\n",
    "print('conv.weight:\\n', conv.weight) \n",
    "print('conv.weight.shape:\\n', conv.weight.shape) # filter(kernel) size는 곧 weights size와 동일합니다.\n",
    "print()\n",
    "print('conv.bias:\\n', conv.bias)\n",
    "print('conv.bias.shape:\\n', conv.bias.shape) # Convolution layer도 linear layer와 마찬가지로 bias를 가질 수 있습니다.\n",
    "print()\n",
    "\n",
    "inp = torch.ones((1, 3, 256, 256)) # 256x256x3\n",
    "print('input:\\n', inp)\n",
    "\n",
    "out = conv(inp)\n",
    "print('output:\\n', out)\n",
    "print('output.shape:\\n', out.shape)\n"
   ]
  },
  {
   "cell_type": "markdown",
   "metadata": {},
   "source": [
    "#### Max Pooling layer\n",
    "\n",
    "<img src=\"https://www.jeremyjordan.me/content/images/2017/07/Screen-Shot-2017-07-27-at-11.43.19-AM.png\" width=\"600\">\n",
    "\n",
    "- pooling_size(kernel_size): pooling layer에서 사용되는 sliding window size.\n",
    "- stride: sliding window가 이동하는 간격 (보통 pooling size와 동일하게 설정함)\n",
    "- input: Batch x Channel x Height x Width\n",
    "- output: Batch x Channel x computed_height x computed_width (Channel은 유지함)\n",
    "- computed_height = Height / pooling_size\n",
    "- computed_width = Width / pooling_size\n"
   ]
  },
  {
   "cell_type": "code",
   "execution_count": 2,
   "metadata": {
    "scrolled": false,
    "tags": []
   },
   "outputs": [
    {
     "name": "stdout",
     "output_type": "stream",
     "text": [
      "tensor([[[[0.9476, 0.7413, 0.5341, 0.5301],\n",
      "          [0.4611, 0.5025, 0.0708, 0.9261],\n",
      "          [0.8010, 0.7546, 0.5695, 0.5796],\n",
      "          [0.4325, 0.7409, 0.6367, 0.4468]]]])\n",
      "torch.Size([1, 1, 4, 4])\n",
      "tensor([[[[0.9476, 0.9261],\n",
      "          [0.8010, 0.6367]]]])\n",
      "torch.Size([1, 1, 2, 2])\n"
     ]
    }
   ],
   "source": [
    "# Max pooling layer\n",
    "maxpool = nn.MaxPool2d(kernel_size=2, stride=2)\n",
    "\n",
    "inp = torch.rand((1, 1, 4, 4)) # BxCxHxW\n",
    "\n",
    "out = maxpool(inp)\n",
    "\n",
    "print(inp)\n",
    "print(inp.shape)\n",
    "print(out)\n",
    "print(out.shape)"
   ]
  },
  {
   "cell_type": "markdown",
   "metadata": {},
   "source": [
    "#### Activation functions\n",
    "\n",
    "<img src=\"https://kjhov195.github.io/post_img/200107/image11.png\" width=\"600\">\n",
    "\n",
    "이미지 처리 분야에선 일반적인 경우에 모델이 깊을수록 좋은 성능을 나타냅니다.<br/>\n",
    "하지만, layer가 쌓임에 따라 고질적인 Vanishing gradient 현상이 나타나므로 적절한 activation function을 적용하는 것이 중요합니다.\n"
   ]
  },
  {
   "cell_type": "code",
   "execution_count": 3,
   "metadata": {
    "scrolled": true
   },
   "outputs": [
    {
     "name": "stdout",
     "output_type": "stream",
     "text": [
      "tensor([ 1.,  1., -1., -1.])\n",
      "tensor([1., 1., 0., 0.])\n",
      "tensor([0.7311, 0.7311, 0.5000, 0.5000])\n"
     ]
    }
   ],
   "source": [
    "inp = torch.ones((4))\n",
    "inp[2:4] = -1 # 2, 3 index 값을 -1로 바꾼다.\n",
    "\n",
    "relu = nn.ReLU() # activation function\n",
    "sigmoid  = nn.Sigmoid()\n",
    "\n",
    "out1 = relu(inp)\n",
    "out2 = sigmoid(out1)\n",
    "\n",
    "print(inp)\n",
    "print(out1)\n",
    "print(out2)"
   ]
  },
  {
   "cell_type": "markdown",
   "metadata": {},
   "source": [
    "#### Batch Normalization\n",
    "\n",
    "|![](https://image.slidesharecdn.com/dlmmdcud1l06optimization-170427160940/95/optimizing-deep-networks-d1l6-insightdcu-machine-learning-workshop-2017-8-638.jpg?cb=1493309658)|\n",
    "|:--:|\n",
    "|Intenal Covariate Shift Problem|\n",
    "\n",
    "|![](https://guillaumebrg.files.wordpress.com/2016/02/bn.png?w=656)|\n",
    "|:--:|\n",
    "|Batch Normalization (BN)|\n",
    "\n",
    "<br/>\n",
    "batch normalization은 입력 데이터를 normalize한 뒤, affine 변환을 적용하는 것으로, layer가 깊어질수록 입력 데이터의 distribution이 달라지는 문제를 해결하고자 사용됩니다. <br/>\n",
    "batch normalization은 다음과 같은 장점을 가집니다.\n",
    "\n",
    "- 안정되고 빠른 훈련\n",
    "- Vanishing gradient, exploding gradient 억제\n",
    "- 약간의 regularization 효과\n"
   ]
  },
  {
   "cell_type": "code",
   "execution_count": 4,
   "metadata": {},
   "outputs": [
    {
     "name": "stdout",
     "output_type": "stream",
     "text": [
      "tensor([[[[-0.1914,  0.0297],\n",
      "          [ 0.4872, -0.6642]],\n",
      "\n",
      "         [[-0.2333,  1.1330],\n",
      "          [-0.2106,  0.3520]],\n",
      "\n",
      "         [[-0.6470,  1.0888],\n",
      "          [-0.8806, -0.6108]]]])\n",
      "tensor([-0.0085,  0.0260, -0.0262])\n",
      "tensor([0.9229, 0.9412, 0.9826])\n",
      "tensor([[[[-0.2576,  0.2760],\n",
      "          [ 1.3795, -1.3979]],\n",
      "\n",
      "         [[-0.8882,  1.5703],\n",
      "          [-0.8472,  0.1651]],\n",
      "\n",
      "         [[-0.4887,  1.7170],\n",
      "          [-0.7856, -0.4427]]]], grad_fn=<NativeBatchNormBackward>)\n"
     ]
    }
   ],
   "source": [
    "inp = torch.randn((1, 3, 2, 2))\n",
    "bn = nn.BatchNorm2d(num_features=3)\n",
    "\n",
    "out = bn(inp)\n",
    "\n",
    "print(inp)\n",
    "\n",
    "print(bn.running_mean)\n",
    "print(bn.running_var)\n",
    "\n",
    "print(out)"
   ]
  },
  {
   "cell_type": "markdown",
   "metadata": {},
   "source": [
    "#### Training simple CNN\n",
    "\n",
    "Multiple layers를 한 단위로 엮은 개념을 building block이라고 합니다. <br/>\n",
    "지금까지 소개한 layers를 block으로 구성하여 간단한 CNN 모델을 정의해보겠습니다. <br/>\n",
    "그리고 이 모델을 torchvision 패키지가 제공하는 MNIST 필기체 이미지 데이터셋을 사용해서 훈련시켜보겠습니다.\n",
    "\n",
    "MNIST 데이터셋은 다음과 같이 0 ~ 9까지의 숫자 이미지들을 포함하고 있습니다. <br/>\n",
    "각 이미지는 28x28 크기, channel=1의 흑백 이미지입니다. \n",
    "\n",
    "![mnist](https://img1.daumcdn.net/thumb/R800x0/?scode=mtistory2&fname=https%3A%2F%2Ft1.daumcdn.net%2Fcfile%2Ftistory%2F21792E37593A321515)\n",
    " \n",
    "아래 훈련과정은 torchvision 패키지로부터 데이터셋을 `./data/`에 다운받습니다.  \n",
    "다운 받은 데이터셋은 DataLoader에 등록하며, 반복적으로 batch_size만큼 이미지 데이터(images)와 이미지의 라벨(labels)을 가져오게 됩니다. <br/>\n",
    "여기서 라벨이란 이미지가 0~9까지의 숫자 중 무엇에 해당하는지 one-hot vector로 표현한 것을 의미합니다. <br/>\n",
    "라벨은 이후 모델이 이미지를 입력받아 어떤 클래스인지 구별(classify)할 때에 비교되는 정답 데이터로 사용됩니다. "
   ]
  },
  {
   "cell_type": "code",
   "execution_count": 5,
   "metadata": {
    "scrolled": false,
    "tags": []
   },
   "outputs": [
    {
     "name": "stdout",
     "output_type": "stream",
     "text": [
      "Epoch [1/5], Step [100/600], Loss: 0.1362\n",
      "Epoch [1/5], Step [200/600], Loss: 0.1374\n",
      "Epoch [1/5], Step [300/600], Loss: 0.0918\n",
      "Epoch [1/5], Step [400/600], Loss: 0.1465\n",
      "Epoch [1/5], Step [500/600], Loss: 0.0440\n",
      "Epoch [1/5], Step [600/600], Loss: 0.0440\n",
      "Epoch [2/5], Step [100/600], Loss: 0.0094\n",
      "Epoch [2/5], Step [200/600], Loss: 0.1048\n",
      "Epoch [2/5], Step [300/600], Loss: 0.0209\n",
      "Epoch [2/5], Step [400/600], Loss: 0.0136\n",
      "Epoch [2/5], Step [500/600], Loss: 0.0279\n",
      "Epoch [2/5], Step [600/600], Loss: 0.0336\n",
      "Epoch [3/5], Step [100/600], Loss: 0.0441\n",
      "Epoch [3/5], Step [200/600], Loss: 0.0052\n",
      "Epoch [3/5], Step [300/600], Loss: 0.1770\n",
      "Epoch [3/5], Step [400/600], Loss: 0.1389\n",
      "Epoch [3/5], Step [500/600], Loss: 0.0618\n",
      "Epoch [3/5], Step [600/600], Loss: 0.1027\n",
      "Epoch [4/5], Step [100/600], Loss: 0.0500\n",
      "Epoch [4/5], Step [200/600], Loss: 0.0803\n",
      "Epoch [4/5], Step [300/600], Loss: 0.0088\n",
      "Epoch [4/5], Step [400/600], Loss: 0.0412\n",
      "Epoch [4/5], Step [500/600], Loss: 0.0153\n",
      "Epoch [4/5], Step [600/600], Loss: 0.0232\n",
      "Epoch [5/5], Step [100/600], Loss: 0.0504\n",
      "Epoch [5/5], Step [200/600], Loss: 0.0022\n",
      "Epoch [5/5], Step [300/600], Loss: 0.0464\n",
      "Epoch [5/5], Step [400/600], Loss: 0.0265\n",
      "Epoch [5/5], Step [500/600], Loss: 0.0125\n",
      "Epoch [5/5], Step [600/600], Loss: 0.0024\n",
      "Test Accuracy of the model on the 10000 test images: 98.98 %\n"
     ]
    }
   ],
   "source": [
    "import torchvision\n",
    "import torchvision.transforms as transforms\n",
    "import matplotlib.pyplot as plt\n",
    "\n",
    "# Device configuration\n",
    "device = torch.device('cuda:0' if torch.cuda.is_available() else 'cpu')\n",
    "\n",
    "# Hyper parameters\n",
    "num_epochs = 5   # 데이터 전체를 훈련하는 횟수\n",
    "num_classes = 10 # 숫자의 종류 (0, 1, 2, ..., 9)\n",
    "batch_size = 100 # 입력 데이터 묶음\n",
    "learning_rate = 0.001\n",
    "\n",
    "# MNIST dataset\n",
    "train_dataset = torchvision.datasets.MNIST(root='./data/',\n",
    "                                           train=True, \n",
    "                                           transform=transforms.ToTensor(),\n",
    "                                           download=True)\n",
    "\n",
    "test_dataset = torchvision.datasets.MNIST(root='./data/',\n",
    "                                          train=False, \n",
    "                                          transform=transforms.ToTensor())\n",
    "\n",
    "# Data loader\n",
    "train_loader = torch.utils.data.DataLoader(dataset=train_dataset,\n",
    "                                           batch_size=batch_size, \n",
    "                                           shuffle=True)\n",
    "\n",
    "test_loader = torch.utils.data.DataLoader(dataset=test_dataset,\n",
    "                                          batch_size=batch_size, \n",
    "                                          shuffle=False)\n",
    "\n",
    "# Convolutional neural network\n",
    "class ConvNet(nn.Module):\n",
    "    def __init__(self, num_classes=10):\n",
    "        super(ConvNet, self).__init__()\n",
    "        # nn.Sequential은 등록된 modules을 순차적으로 실행시킵니다.  \n",
    "        self.layer1 = nn.Sequential(\n",
    "            nn.Conv2d(1, 16, kernel_size=5, stride=1, padding=2),\n",
    "            nn.BatchNorm2d(16),\n",
    "            nn.ReLU(),\n",
    "            nn.MaxPool2d(kernel_size=2, stride=2))\n",
    "        self.layer2 = nn.Sequential(\n",
    "            nn.Conv2d(16, 32, kernel_size=5, stride=1, padding=2),\n",
    "            nn.BatchNorm2d(32),\n",
    "            nn.ReLU(),\n",
    "            nn.MaxPool2d(kernel_size=2, stride=2))\n",
    "        self.fc = nn.Linear(7*7*32, num_classes) # fully connected layer\n",
    "        \n",
    "    def forward(self, x):\n",
    "                                                    # x shape: Batch x 1 x 28 x 28\n",
    "        out = self.layer1(x)                    # out shape: Batch x 16 x 14 x 14\n",
    "        out = self.layer2(out)                 # out shape: Batch x 32 x 7 x 7\n",
    "        out = out.reshape(out.size(0), -1) # out shape: Batch x (32 * 7 * 7)\n",
    "        out = self.fc(out)                      # out shape: Batch x 10\n",
    "        return out\n",
    "\n",
    "model = ConvNet(num_classes).to(device)\n",
    "\n",
    "# Loss and optimizer\n",
    "\"\"\"\n",
    "nn.CrossEntropyLoss는 log_softmax와 NLLLoss가 함께 적용된 형태입니다. \n",
    "간단히 말해, 모델의 output에 activation function으로 softmax가 자동으로 적용되니 모델에 따로 softmax layer를 추가할 필요는 없습니다.\n",
    "\"\"\"\n",
    "criterion = nn.CrossEntropyLoss()\n",
    "optimizer = torch.optim.Adam(model.parameters(), lr=learning_rate)\n",
    "\n",
    "# Train the model\n",
    "total_step = len(train_loader) # 전체 데이터를 batch만큼 나눈 값\n",
    "for epoch in range(num_epochs):\n",
    "    for i, (images, labels) in enumerate(train_loader):\n",
    "        images = images.to(device) # shape: Batchx1x28x28\n",
    "        labels = labels.to(device) # shape: Batch\n",
    "        \n",
    "        # Forward pass\n",
    "        outputs = model(images)\n",
    "        loss = criterion(outputs, labels)\n",
    "        \n",
    "        # Backward and optimize\n",
    "        optimizer.zero_grad()\n",
    "        loss.backward()\n",
    "        optimizer.step()\n",
    "        \n",
    "        if (i+1) % 100 == 0:\n",
    "            print ('Epoch [{}/{}], Step [{}/{}], Loss: {:.4f}' \n",
    "                   .format(epoch+1, num_epochs, i+1, total_step, loss.item()))\n",
    "\n",
    "# Test the model\n",
    "model.eval()  # eval mode (batchnorm uses moving mean/variance instead of mini-batch mean/variance)\n",
    "with torch.no_grad():\n",
    "    correct = 0\n",
    "    total = 0\n",
    "    for images, labels in test_loader:\n",
    "        images = images.to(device)\n",
    "        labels = labels.to(device)\n",
    "        outputs = model(images)\n",
    "        _, predicted = torch.max(outputs.data, 1) # 10개 class중 점수가 가장 큰 값이 예측한 class입니다.\n",
    "        total += labels.size(0)\n",
    "        correct += (predicted == labels).sum().item()\n",
    "\n",
    "    print('Test Accuracy of the model on the 10000 test images: {} %'.format(100 * correct / total))\n"
   ]
  },
  {
   "cell_type": "markdown",
   "metadata": {},
   "source": [
    "테스트 셋에서 이미지 한 장을 시각화해보고 모델이 올바르게 추론하는지 확인해보겠습니다."
   ]
  },
  {
   "cell_type": "code",
   "execution_count": 6,
   "metadata": {
    "scrolled": true
   },
   "outputs": [
    {
     "data": {
      "image/png": "[encoded data removed]",
      "text/plain": [
       "<Figure size 432x288 with 2 Axes>"
      ]
     },
     "metadata": {
      "needs_background": "light"
     },
     "output_type": "display_data"
    }
   ],
   "source": [
    "# Visualize image and model inference\n",
    "images, labels = next(iter(test_loader))\n",
    "\n",
    "ridx = torch.randint(0, batch_size, (1,)) # 0~50 인덱스 중 하나를 선택해 출력해보겠습니다.\n",
    "\n",
    "image = images[ridx[0].data]\n",
    "label = labels[ridx[0].data]\n",
    "\n",
    "output = model(image.unsqueeze(0).to(device))\n",
    "_, predicted = torch.max(output.data, 1)\n",
    "\n",
    "plt.title('test image label: {}, model inference: {}'.format(label.data, predicted[0].data), fontsize=15)\n",
    "plt.imshow(image.view(28, 28), cmap=plt.cm.Greys)\n",
    "plt.colorbar()\n",
    "plt.show()\n"
   ]
  },
  {
   "cell_type": "markdown",
   "metadata": {},
   "source": [
    "### Advanced Architecture\n",
    "\n",
    "이외에도 좋은 성능을 내는 모델들은 다음과 같은 방법들을 사용합니다."
   ]
  },
  {
   "cell_type": "markdown",
   "metadata": {},
   "source": [
    "#### 1x1 Convolution layer (convolution with kernel_size = 1)\n",
    "\n",
    "![https://cheong.netlify.app/static/fb817ed940cd331991e5f40effdaf455/799d3/image16.png](https://cheong.netlify.app/static/fb817ed940cd331991e5f40effdaf455/799d3/image16.png)\n",
    "\n",
    "일반적으로 input의 channels을 줄여 연산량을 줄이거나, 다른 features의 channels와 개수를 일치시키고 싶을때 사용됩니다. <br/>\n",
    "예를 들어 3x3 conv, 5x5 conv와 같이 연산량이 큰 컨볼루션을 적용하기 전에 1x1 conv로 입력 차원을 줄인뒤 3x3 conv를 적용하면 더 적은 비용으로 비슷한 효과를 볼 수 있습니다. (ResNet의 Bottleneck block) <br/>\n",
    "\n"
   ]
  },
  {
   "cell_type": "code",
   "execution_count": 7,
   "metadata": {
    "tags": []
   },
   "outputs": [
    {
     "name": "stdout",
     "output_type": "stream",
     "text": [
      "torch.Size([1, 10, 4, 4])\n",
      "torch.Size([1, 3, 4, 4])\n"
     ]
    }
   ],
   "source": [
    "inp = torch.ones((1, 10, 4, 4)) # C=10\n",
    "\n",
    "conv1x1 = nn.Conv2d(in_channels=10, out_channels=3, kernel_size=1, stride=1, padding=0) # kernel_size = 1\n",
    "\n",
    "out = conv1x1(inp)\n",
    "\n",
    "print(inp.shape)\n",
    "print(out.shape) # C=3"
   ]
  },
  {
   "cell_type": "markdown",
   "metadata": {},
   "source": [
    "#### Element-wise addition / Concatenate\n",
    "\n",
    "|![](https://codeforwin.org/ezoimgfmt/secureservercdn.net/160.153.138.219/b79.d22.myftpupload.com/wp-content/uploads/2015/07/matrix-addition.png?ezimgfmt=rs:392x204/rscb1)|\n",
    "|:--:|\n",
    "|Element-wise Addition|\n",
    "\n",
    "|![](https://img1.daumcdn.net/thumb/R1280x0/?scode=mtistory2&fname=http%3A%2F%2Fcfile4.uf.tistory.com%2Fimage%2F99D452405B49B4DA10949D)|\n",
    "|:--:|\n",
    "|Concatenate|\n",
    "\n",
    "element-wise addition은 말 그대로 동일한 차원을 가진 tensor의 요소끼리 더하는 연산을 의미합니다. <br/>\n",
    "concatenate은 선택한 차원을 기준으로 tensors를 연결하는 것을 의미합니다."
   ]
  },
  {
   "cell_type": "code",
   "execution_count": 8,
   "metadata": {},
   "outputs": [
    {
     "name": "stdout",
     "output_type": "stream",
     "text": [
      "tensor([[1, 2, 3],\n",
      "        [4, 5, 6],\n",
      "        [7, 8, 9]])\n",
      "tensor([[9, 8, 7],\n",
      "        [6, 5, 4],\n",
      "        [3, 2, 1]])\n",
      "tensor([[10, 10, 10],\n",
      "        [10, 10, 10],\n",
      "        [10, 10, 10]])\n",
      "tensor([[1, 2, 3],\n",
      "        [4, 5, 6],\n",
      "        [7, 8, 9],\n",
      "        [9, 8, 7],\n",
      "        [6, 5, 4],\n",
      "        [3, 2, 1]])\n",
      "torch.Size([6, 3])\n"
     ]
    }
   ],
   "source": [
    "A = torch.arange(1, 10).view(3, 3)\n",
    "B = torch.arange(9, 0, -1).view(3, 3)\n",
    "\n",
    "print(A)\n",
    "print(B)\n",
    "\n",
    "out1 = A + B # element-wise addition\n",
    "print(out1)\n",
    "\n",
    "out2 = torch.cat((A, B), 0) # concat in 0 dim\n",
    "print(out2)\n",
    "print(out2.shape)"
   ]
  },
  {
   "cell_type": "markdown",
   "metadata": {},
   "source": [
    "#### Skip connection (shortcut connection)\n",
    "\n",
    "|![](https://datascienceschool.net/upfiles/6182312059774a81a2a26246bd4e83f2.png)|\n",
    "|:---:|\n",
    "|*Skip Connection (ResNet)*|\n",
    "\n",
    "|![](https://cheong.netlify.app/static/5a711b3b3b3d4789e4d0e0fc742c0e11/7f576/image24.png)|\n",
    "|:---:|\n",
    "|*Bottleneck Block (ResNet)*|\n",
    "<br/>\n",
    "\n",
    "skip connection은 ResNet에서 제안되어졌으며 몇가지 장점들로 인해 많은 CNNs에서 필수적인 요소로 사용하고 있습니다. <br/>\n",
    "\n",
    "- 깊은 모델의 Degradation 현상 해소\n",
    "- 원활한 gradient 전파\n"
   ]
  },
  {
   "cell_type": "code",
   "execution_count": 9,
   "metadata": {
    "scrolled": true
   },
   "outputs": [
    {
     "name": "stdout",
     "output_type": "stream",
     "text": [
      "torch.Size([1, 256, 28, 28])\n",
      "torch.Size([1, 256, 28, 28])\n"
     ]
    }
   ],
   "source": [
    "x_in = torch.ones((1, 256, 28, 28))\n",
    "\n",
    "conv1 = nn.Conv2d(256, 64, kernel_size=1, stride=1, padding=0) # 1x1 conv\n",
    "conv2 = nn.Conv2d(64, 64, kernel_size=3, stride=1, padding=1) # 3x3 conv with padding\n",
    "conv3 = nn.Conv2d(64, 256, kernel_size=1, stride=1, padding=0) # 1x1 conv\n",
    "F = nn.Sequential(conv1, conv2, conv3) # Bottleneck block\n",
    "\n",
    "F_out = F(x_in)\n",
    "\n",
    "print(F_out.shape)\n",
    "\n",
    "x_out = F_out + x_in # skip connection (element-wise addition)\n",
    "print(x_out.shape)"
   ]
  }
 ],
 "metadata": {
  "kernelspec": {
   "display_name": "pt15",
   "language": "python",
   "name": "pt15"
  },
  "language_info": {
   "codemirror_mode": {
    "name": "ipython",
    "version": 3
   },
   "file_extension": ".py",
   "mimetype": "text/x-python",
   "name": "python",
   "nbconvert_exporter": "python",
   "pygments_lexer": "ipython3",
   "version": "3.6.10"
  }
 },
 "nbformat": 4,
 "nbformat_minor": 2
}
