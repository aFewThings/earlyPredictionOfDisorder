{
 "cells": [
  {
   "cell_type": "markdown",
   "metadata": {},
   "source": [
    "## Convolutional Neural Network\n",
    "\n",
    "reference: [https://wegonnamakeit.tistory.com/48](https://wegonnamakeit.tistory.com/48), [http://taewan.kim/post/cnn/](http://taewan.kim/post/cnn/)\n",
    "\n",
    "### Basic CNN\n",
    "CNN을 구성할때 보편적으로 사용되는 layers에 대해서 알아보겠습니다. <br/>\n",
    "\n"
   ]
  },
  {
   "cell_type": "markdown",
   "metadata": {},
   "source": [
    "#### Convolution layer (also known as spatial convolution layer)\n",
    "\n",
    "![img](http://deeplearning.net/software/theano/_images/numerical_padding_strides.gif)\n",
    "\n",
    "- Convolution: 이미지 위에 stride 값 만큼 filter(or kernel)을 이동시키면서 겹쳐지는 부분의 각 원소의 값을 모두 곱한 뒤 합산한 값을 출력하는 연산\n",
    "- filter(kernel): number_of_filters x input_channels x kernel_size x kernel_size\n",
    "- Stride: filter를 sliding window 방식으로 한 번에 이동시키는 간격\n",
    "- Padding: pad 크기 만큼 이미지의 상하좌우에 '0'으로 값을 채우는 것. output의 width, height 크기를 조절하기 위해 사용합니다. \n",
    "- input(image or features): Batch x Channel x Height x Width (Pytorch: BCHW format, Tensorflow: BHWC format)\n",
    "  - Batch는 입력데이터의 묶음을 의미합니다. 입력데이터를 이미지 한 장으로 구성한다면 1 x C x H x W와 같습니다. 이미지의 크기가 256 x 256이고, RGB channel이라면 입력데이터는 1x3x256x256 입니다.\n",
    "- output(features or feature map): Batch x number_of_filters x computed_height x computed_width\n",
    "  - computed_width = ((width - kernel_size + 2*pad) / stride) + 1\n",
    "  - computed_height = ((height - kernel_size + 2*pad) / stride) + 1\n"
   ]
  },
  {
   "cell_type": "code",
   "execution_count": 1,
   "metadata": {
    "tags": []
   },
   "outputs": [
    {
     "output_type": "stream",
     "name": "stdout",
     "text": "conv.weight:\n Parameter containing:\ntensor([[[[ 0.1615,  0.1683, -0.0925],\n          [ 0.0425,  0.0511, -0.1227],\n          [-0.0869,  0.0911, -0.1448]],\n\n         [[ 0.0687,  0.1134, -0.0016],\n          [-0.0437, -0.0768, -0.1107],\n          [-0.0434,  0.0844,  0.1567]],\n\n         [[ 0.1155, -0.0633,  0.0533],\n          [ 0.1172,  0.1431, -0.0745],\n          [-0.0649, -0.0369, -0.1078]]],\n\n\n        [[[ 0.1911,  0.0234, -0.1513],\n          [-0.1400, -0.1704, -0.1870],\n          [ 0.1102,  0.1501,  0.1861]],\n\n         [[ 0.0070,  0.0397, -0.0540],\n          [-0.1614,  0.1011, -0.1816],\n          [ 0.0786, -0.1219, -0.0636]],\n\n         [[-0.1382, -0.0883, -0.1460],\n          [ 0.1529,  0.1533, -0.1501],\n          [ 0.1244, -0.1374, -0.1139]]]], requires_grad=True)\nconv.weight.shape:\n torch.Size([2, 3, 3, 3])\n\nconv.bias:\n Parameter containing:\ntensor([-0.1112,  0.0886], requires_grad=True)\nconv.bias.shape:\n torch.Size([2])\n\ninput:\n tensor([[[[1., 1., 1.,  ..., 1., 1., 1.],\n          [1., 1., 1.,  ..., 1., 1., 1.],\n          [1., 1., 1.,  ..., 1., 1., 1.],\n          ...,\n          [1., 1., 1.,  ..., 1., 1., 1.],\n          [1., 1., 1.,  ..., 1., 1., 1.],\n          [1., 1., 1.,  ..., 1., 1., 1.]],\n\n         [[1., 1., 1.,  ..., 1., 1., 1.],\n          [1., 1., 1.,  ..., 1., 1., 1.],\n          [1., 1., 1.,  ..., 1., 1., 1.],\n          ...,\n          [1., 1., 1.,  ..., 1., 1., 1.],\n          [1., 1., 1.,  ..., 1., 1., 1.],\n          [1., 1., 1.,  ..., 1., 1., 1.]],\n\n         [[1., 1., 1.,  ..., 1., 1., 1.],\n          [1., 1., 1.,  ..., 1., 1., 1.],\n          [1., 1., 1.,  ..., 1., 1., 1.],\n          ...,\n          [1., 1., 1.,  ..., 1., 1., 1.],\n          [1., 1., 1.,  ..., 1., 1., 1.],\n          [1., 1., 1.,  ..., 1., 1., 1.]]]])\noutput:\n tensor([[[[-0.2588, -0.3381, -0.3381,  ..., -0.3381, -0.3381, -0.3381],\n          [-0.0811,  0.1853,  0.1853,  ...,  0.1853,  0.1853,  0.1853],\n          [-0.0811,  0.1853,  0.1853,  ...,  0.1853,  0.1853,  0.1853],\n          ...,\n          [-0.0811,  0.1853,  0.1853,  ...,  0.1853,  0.1853,  0.1853],\n          [-0.0811,  0.1853,  0.1853,  ...,  0.1853,  0.1853,  0.1853],\n          [-0.0811,  0.1853,  0.1853,  ...,  0.1853,  0.1853,  0.1853]],\n\n         [[-0.4466, -0.2820, -0.2820,  ..., -0.2820, -0.2820, -0.2820],\n          [-0.8231, -0.5984, -0.5984,  ..., -0.5984, -0.5984, -0.5984],\n          [-0.8231, -0.5984, -0.5984,  ..., -0.5984, -0.5984, -0.5984],\n          ...,\n          [-0.8231, -0.5984, -0.5984,  ..., -0.5984, -0.5984, -0.5984],\n          [-0.8231, -0.5984, -0.5984,  ..., -0.5984, -0.5984, -0.5984],\n          [-0.8231, -0.5984, -0.5984,  ..., -0.5984, -0.5984, -0.5984]]]],\n       grad_fn=<MkldnnConvolutionBackward>)\noutput.shape:\n torch.Size([1, 2, 128, 128])\n"
    }
   ],
   "source": [
    "import torch\n",
    "import torch.nn as nn\n",
    "\n",
    "in_channels = 3\n",
    "out_channels = 2 # out_channels은 number_of_filters과 동일하다.\n",
    "kernel_size = 3\n",
    "stride = 2\n",
    "pad = 1\n",
    "\n",
    "# Basic 2D convolution layer\n",
    "conv = nn.Conv2d(in_channels=in_channels, out_channels=out_channels, kernel_size=kernel_size, stride=stride, padding=pad)\n",
    "\n",
    "print('conv.weight:\\n', conv.weight) \n",
    "print('conv.weight.shape:\\n', conv.weight.shape) # filter(kernel) size는 곧 weights size와 동일합니다.\n",
    "print()\n",
    "print('conv.bias:\\n', conv.bias)\n",
    "print('conv.bias.shape:\\n', conv.bias.shape) # Convolution layer도 linear layer와 마찬가지로 bias를 가질 수 있습니다.\n",
    "print()\n",
    "\n",
    "inp = torch.ones((1, 3, 256, 256)) # 256x256x3\n",
    "print('input:\\n', inp)\n",
    "\n",
    "out = conv(inp)\n",
    "print('output:\\n', out)\n",
    "print('output.shape:\\n', out.shape)\n"
   ]
  },
  {
   "cell_type": "markdown",
   "metadata": {},
   "source": [
    "#### Max Pooling layer\n",
    "\n",
    "<img src=\"https://www.jeremyjordan.me/content/images/2017/07/Screen-Shot-2017-07-27-at-11.43.19-AM.png\" width=\"600\">\n",
    "\n",
    "- pooling_size(kernel_size): pooling layer에서 사용되는 sliding window size.\n",
    "- stride: sliding window가 이동하는 간격 (일반적으로 pooling size와 동일하게 설정함)\n",
    "- input: Batch x Channel x Height x Width\n",
    "- output: Batch x Channel x computed_height x computed_width (Channel은 유지함)\n",
    "- computed_height = Height / pooling_size\n",
    "- computed_width = Width / pooling_size\n"
   ]
  },
  {
   "cell_type": "code",
   "execution_count": 2,
   "metadata": {
    "tags": []
   },
   "outputs": [
    {
     "output_type": "stream",
     "name": "stdout",
     "text": "tensor([[[[0.4419, 0.8402, 0.3806, 0.0291],\n          [0.9633, 0.6814, 0.5503, 0.9024],\n          [0.7750, 0.6866, 0.8948, 0.4510],\n          [0.1990, 0.8540, 0.3861, 0.1111]]]]) torch.Size([1, 1, 4, 4])\ntensor([[[[0.9633, 0.9024],\n          [0.8540, 0.8948]]]]) torch.Size([1, 1, 2, 2])\n"
    }
   ],
   "source": [
    "import torch\n",
    "import torch.nn as nn\n",
    "\n",
    "# Max pooling layer\n",
    "maxpool = nn.MaxPool2d(kernel_size=2, stride=2)\n",
    "\n",
    "inp = torch.rand((1, 1, 4, 4)) # BxCxHxW\n",
    "\n",
    "out = maxpool(inp)\n",
    "\n",
    "print(inp, inp.shape)\n",
    "print(out, out.shape)"
   ]
  },
  {
   "cell_type": "markdown",
   "metadata": {},
   "source": [
    "multiple layers를 한 단위로 엮은 개념을 Building block이라고 합니다. <br/>\n",
    "지금까지 설명한 layers를 building block으로 구성하여 간단한 CNN 모델을 정의해보겠습니다. <br/>\n",
    "그리고 이 모델을 torchvision 패키지가 제공하는 MNIST 필기체 이미지 데이터셋을 사용해서 훈련시켜보겠습니다."
   ]
  },
  {
   "cell_type": "code",
   "execution_count": 4,
   "metadata": {
    "tags": []
   },
   "outputs": [
    {
     "output_type": "stream",
     "name": "stderr",
     "text": "0it [00:00, ?it/s]Downloading http://yann.lecun.com/exdb/mnist/train-images-idx3-ubyte.gz to ./data/MNIST\\raw\\train-images-idx3-ubyte.gz\n9920512it [00:03, 2509184.48it/s]\nExtracting ./data/MNIST\\raw\\train-images-idx3-ubyte.gz to ./data/MNIST\\raw\n0it [00:00, ?it/s]Downloading http://yann.lecun.com/exdb/mnist/train-labels-idx1-ubyte.gz to ./data/MNIST\\raw\\train-labels-idx1-ubyte.gz\n32768it [00:00, 52601.65it/s]\n0it [00:00, ?it/s]Extracting ./data/MNIST\\raw\\train-labels-idx1-ubyte.gz to ./data/MNIST\\raw\nDownloading http://yann.lecun.com/exdb/mnist/t10k-images-idx3-ubyte.gz to ./data/MNIST\\raw\\t10k-images-idx3-ubyte.gz\n1654784it [00:02, 697141.88it/s]\n0it [00:00, ?it/s]Extracting ./data/MNIST\\raw\\t10k-images-idx3-ubyte.gz to ./data/MNIST\\raw\nDownloading http://yann.lecun.com/exdb/mnist/t10k-labels-idx1-ubyte.gz to ./data/MNIST\\raw\\t10k-labels-idx1-ubyte.gz\n8192it [00:00, 15142.05it/s]\nExtracting ./data/MNIST\\raw\\t10k-labels-idx1-ubyte.gz to ./data/MNIST\\raw\nProcessing...\nDone!\nEpoch [1/5], Step [100/600], Loss: 0.1958\nEpoch [1/5], Step [200/600], Loss: 0.0839\nEpoch [1/5], Step [300/600], Loss: 0.0544\nEpoch [1/5], Step [400/600], Loss: 0.0389\nEpoch [1/5], Step [500/600], Loss: 0.1222\nEpoch [1/5], Step [600/600], Loss: 0.0974\nEpoch [2/5], Step [100/600], Loss: 0.0175\nEpoch [2/5], Step [200/600], Loss: 0.0070\nEpoch [2/5], Step [300/600], Loss: 0.0122\nEpoch [2/5], Step [400/600], Loss: 0.0098\nEpoch [2/5], Step [500/600], Loss: 0.0471\nEpoch [2/5], Step [600/600], Loss: 0.0322\nEpoch [3/5], Step [100/600], Loss: 0.0511\nEpoch [3/5], Step [200/600], Loss: 0.0135\nEpoch [3/5], Step [300/600], Loss: 0.0532\nEpoch [3/5], Step [400/600], Loss: 0.0169\nEpoch [3/5], Step [500/600], Loss: 0.0464\nEpoch [3/5], Step [600/600], Loss: 0.0983\nEpoch [4/5], Step [100/600], Loss: 0.0669\nEpoch [4/5], Step [200/600], Loss: 0.0119\nEpoch [4/5], Step [300/600], Loss: 0.0047\nEpoch [4/5], Step [400/600], Loss: 0.0137\nEpoch [4/5], Step [500/600], Loss: 0.0472\nEpoch [4/5], Step [600/600], Loss: 0.0097\nEpoch [5/5], Step [100/600], Loss: 0.0385\nEpoch [5/5], Step [200/600], Loss: 0.0569\nEpoch [5/5], Step [300/600], Loss: 0.0585\nEpoch [5/5], Step [400/600], Loss: 0.0057\nEpoch [5/5], Step [500/600], Loss: 0.0525\nEpoch [5/5], Step [600/600], Loss: 0.0013\nTest Accuracy of the model on the 10000 test images: 98.89 %\n"
    }
   ],
   "source": [
    "import torch \n",
    "import torch.nn as nn\n",
    "import torchvision\n",
    "import torchvision.transforms as transforms\n",
    "\n",
    "\n",
    "# Device configuration\n",
    "device = torch.device('cuda:0' if torch.cuda.is_available() else 'cpu')\n",
    "\n",
    "# Hyper parameters\n",
    "num_epochs = 5\n",
    "num_classes = 10\n",
    "batch_size = 100 # 입력 데이터 묶음\n",
    "learning_rate = 0.001\n",
    "\n",
    "# MNIST dataset\n",
    "train_dataset = torchvision.datasets.MNIST(root='./data/',\n",
    "                                           train=True, \n",
    "                                           transform=transforms.ToTensor(),\n",
    "                                           download=True)\n",
    "\n",
    "test_dataset = torchvision.datasets.MNIST(root='./data/',\n",
    "                                          train=False, \n",
    "                                          transform=transforms.ToTensor())\n",
    "\n",
    "# Data loader\n",
    "train_loader = torch.utils.data.DataLoader(dataset=train_dataset,\n",
    "                                           batch_size=batch_size, \n",
    "                                           shuffle=True)\n",
    "\n",
    "test_loader = torch.utils.data.DataLoader(dataset=test_dataset,\n",
    "                                          batch_size=batch_size, \n",
    "                                          shuffle=False)\n",
    "\n",
    "# Convolutional neural network (two convolutional layers)\n",
    "class ConvNet(nn.Module):\n",
    "    def __init__(self, num_classes=10):\n",
    "        super(ConvNet, self).__init__()\n",
    "        self.layer1 = nn.Sequential(\n",
    "            nn.Conv2d(1, 16, kernel_size=5, stride=1, padding=2),\n",
    "            nn.BatchNorm2d(16),\n",
    "            nn.ReLU(),\n",
    "            nn.MaxPool2d(kernel_size=2, stride=2))\n",
    "        self.layer2 = nn.Sequential(\n",
    "            nn.Conv2d(16, 32, kernel_size=5, stride=1, padding=2),\n",
    "            nn.BatchNorm2d(32),\n",
    "            nn.ReLU(),\n",
    "            nn.MaxPool2d(kernel_size=2, stride=2))\n",
    "        self.fc = nn.Linear(7*7*32, num_classes) # fully connected layer\n",
    "        \n",
    "    def forward(self, x):\n",
    "        out = self.layer1(x)\n",
    "        out = self.layer2(out)\n",
    "        out = out.reshape(out.size(0), -1)\n",
    "        out = self.fc(out)\n",
    "        return out\n",
    "\n",
    "model = ConvNet(num_classes).to(device)\n",
    "\n",
    "# Loss and optimizer\n",
    "criterion = nn.CrossEntropyLoss()\n",
    "optimizer = torch.optim.Adam(model.parameters(), lr=learning_rate)\n",
    "\n",
    "# Train the model\n",
    "total_step = len(train_loader)\n",
    "for epoch in range(num_epochs):\n",
    "    for i, (images, labels) in enumerate(train_loader):\n",
    "        images = images.to(device)\n",
    "        labels = labels.to(device)\n",
    "        \n",
    "        # Forward pass\n",
    "        outputs = model(images)\n",
    "        loss = criterion(outputs, labels)\n",
    "        \n",
    "        # Backward and optimize\n",
    "        optimizer.zero_grad()\n",
    "        loss.backward()\n",
    "        optimizer.step()\n",
    "        \n",
    "        if (i+1) % 100 == 0:\n",
    "            print ('Epoch [{}/{}], Step [{}/{}], Loss: {:.4f}' \n",
    "                   .format(epoch+1, num_epochs, i+1, total_step, loss.item()))\n",
    "\n",
    "# Test the model\n",
    "model.eval()  # eval mode (batchnorm uses moving mean/variance instead of mini-batch mean/variance)\n",
    "with torch.no_grad():\n",
    "    correct = 0\n",
    "    total = 0\n",
    "    for images, labels in test_loader:\n",
    "        images = images.to(device)\n",
    "        labels = labels.to(device)\n",
    "        outputs = model(images)\n",
    "        _, predicted = torch.max(outputs.data, 1)\n",
    "        total += labels.size(0)\n",
    "        correct += (predicted == labels).sum().item()\n",
    "\n",
    "    print('Test Accuracy of the model on the 10000 test images: {} %'.format(100 * correct / total))\n"
   ]
  },
  {
   "cell_type": "markdown",
   "metadata": {},
   "source": [
    "### Advanced Contents\n",
    "\n",
    "다음은 이후 소개할 Pose Estimation 모델을 잘 이해하기 위해 추가한 내용입니다."
   ]
  },
  {
   "cell_type": "markdown",
   "metadata": {},
   "source": [
    "#### 1x1 Convolution layer (convolution with kernel_size = 1)\n",
    "\n",
    "일반적으로 input의 channels을 줄여 연산량을 줄이거나, 다른 features의 channels와 개수를 맞출 때 사용됩니다. <br/>\n",
    "ex) 3x3 conv, 5x5 conv와 같이 연산량이 큰 컨볼루션을 적용하기 전에 1x1 conv로 차원을 줄이면 더 적은 비용으로 비슷한 효과를 볼 수 있습니다.\n"
   ]
  },
  {
   "cell_type": "code",
   "execution_count": 12,
   "metadata": {
    "tags": []
   },
   "outputs": [
    {
     "output_type": "stream",
     "name": "stdout",
     "text": "torch.Size([1, 1, 4, 4])\ntorch.Size([1, 3, 4, 4])\n"
    }
   ],
   "source": [
    "import torch\n",
    "import torch.nn as nn\n",
    "\n",
    "inp_data = torch.ones((1, 10, 4, 4))\n",
    "\n",
    "conv1x1 = nn.Conv2d(in_channels=10, out_channels=3, kernel_size=1, stride=1, padding=0) # kernel_size = 1\n",
    "\n",
    "output = conv1x1(inp_data)\n",
    "\n",
    "print(inp.shape)\n",
    "print(output.shape) # channel reduction"
   ]
  }
 ],
 "metadata": {
  "language_info": {
   "codemirror_mode": {
    "name": "ipython",
    "version": 3
   },
   "file_extension": ".py",
   "mimetype": "text/x-python",
   "name": "python",
   "nbconvert_exporter": "python",
   "pygments_lexer": "ipython3",
   "version": "3.6.10-final"
  },
  "orig_nbformat": 2,
  "kernelspec": {
   "name": "pt15",
   "display_name": "pt15"
  }
 },
 "nbformat": 4,
 "nbformat_minor": 2
}